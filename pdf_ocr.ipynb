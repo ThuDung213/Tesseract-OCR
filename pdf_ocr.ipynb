{
 "cells": [
  {
   "cell_type": "code",
   "execution_count": 1,
   "metadata": {},
   "outputs": [
    {
     "name": "stdout",
     "output_type": "stream",
     "text": [
      "The importance of technology in modern life cannot be overstated. It has\n",
      "revolutionized the way we communicate, work, and live, making everyday\n",
      "tasks faster and more efficient. From smartphones and laptops to artificial\n",
      "intelligence and robotics, advancements in technology have reshaped\n",
      "industries and opened new opportunities for innovation. However, with\n",
      "these benefits come challenges, such as data privacy concerns and the\n",
      "digital divide. To ensure a balanced future, it is crucial to adopt sustainable\n",
      "technological practices and promote inclusive access for all. By doing so, we\n",
      "can harness technology's full potential to improve lives and solve pressing\n",
      "global issues.\n",
      "\n",
      "\n"
     ]
    }
   ],
   "source": [
    "import pytesseract\n",
    "from pdf2image import convert_from_path\n",
    "from PIL import Image\n",
    "import cv2\n",
    "\n",
    "# Convert PDF to images\n",
    "images = convert_from_path('data/sample.pdf', dpi=300)\n",
    "\n",
    "# Extract text from each page\n",
    "all_text = \"\"\n",
    "for i, image in enumerate(images):\n",
    "    # Save and preprocess the image\n",
    "    image_path = f'page_{i + 1}.png'\n",
    "    image.save(image_path, 'PNG')\n",
    "\n",
    "    # Convert to grayscale\n",
    "    gray = cv2.imread(image_path, cv2.IMREAD_GRAYSCALE)\n",
    "    _, threshold = cv2.threshold(gray, 150, 255, cv2.THRESH_BINARY)\n",
    "\n",
    "    # Save the preprocessed image\n",
    "    processed_path = f'threshold_page_{i + 1}.png'\n",
    "    cv2.imwrite(processed_path, threshold)\n",
    "\n",
    "    # Perform OCR\n",
    "    text = pytesseract.image_to_string(Image.open(processed_path), lang='eng')\n",
    "    all_text += text + '\\n'\n",
    "\n",
    "print(all_text)\n"
   ]
  },
  {
   "cell_type": "code",
   "execution_count": null,
   "metadata": {},
   "outputs": [],
   "source": []
  }
 ],
 "metadata": {
  "kernelspec": {
   "display_name": "Python 3",
   "language": "python",
   "name": "python3"
  },
  "language_info": {
   "codemirror_mode": {
    "name": "ipython",
    "version": 3
   },
   "file_extension": ".py",
   "mimetype": "text/x-python",
   "name": "python",
   "nbconvert_exporter": "python",
   "pygments_lexer": "ipython3",
   "version": "3.12.4"
  }
 },
 "nbformat": 4,
 "nbformat_minor": 2
}
